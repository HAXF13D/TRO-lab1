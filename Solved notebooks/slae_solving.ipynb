{
 "cells": [
  {
   "cell_type": "markdown",
   "id": "29ffe51d",
   "metadata": {},
   "source": [
    "# Разработать программу, способную решать систему линейных алгебраических уравнений, содержащую n уравнений и n неизвестных, методом Крамера.\n",
    "\n",
    "\\begin{equation}\n",
    "\\left \\{ \\begin{aligned}\n",
    "& a_{11}x_1+a_{12}x_2+a_{13}x_3+\\ldots+a_{1n}x_n=b_1;\\\\\n",
    "& a_{21}x_1+a_{22}x_2+a_{23}x_3+\\ldots+a_{2n}x_n=b_2;\\\\\n",
    "& \\ldots\\ldots\\ldots\\ldots\\ldots\\ldots\\ldots\\ldots\\ldots\\ldots\\ldots\\ldots \\\\\n",
    "& a_{n1}x_1+a_{n2}x_2+a_{n3}x_3+\\ldots+a_{nn}x_n=b_n.\n",
    "\\end{aligned} \\right.\n",
    "\\end{equation}\n",
    "\n",
    "**Входные данные:**\n",
    "\n",
    "`0≤i,j<n`\n",
    "\n",
    "В первой строке вводится целое число n, количсетво уравнений и неизвестных.\n",
    "\n",
    "Далее во входном потоке идет n строк по n вещественных чисел a<sub>ij</sub>, коэффициенты уравнения, разделенные пробелом.\n",
    "\n",
    "В последней строке вводятся n вещественных чисел b<sub>i</sub>, свободные члены, разделенные пробелом.\n",
    "\n",
    "**Выходные данные:**\n",
    "\n",
    "В одной строке вывести корни данного уравнения, разделенные пробелом.\n",
    "\n",
    "**Пример входных данных:**\n",
    "\n",
    "3<br>\n",
    "2.0 -1.0 0.0<br>\n",
    "-1.0 1.0 4.0<br>\n",
    "1.0 2.0 3.0<br>\n",
    "0.0 13.0 14.0<br>\n",
    "\n",
    "**Пример выходных данных:**\n",
    "\n",
    "1.0 2.0 3.0\n"
   ]
  },
  {
   "cell_type": "markdown",
   "id": "a81d5f60",
   "metadata": {},
   "source": [
    "#### Разберем, как решаются уравнения методом Крамера.\n",
    "\n",
    "Пусть есть система уравнений:\n",
    "![](https://wikimedia.org/api/rest_v1/media/math/render/svg/88ef462cf67b30b42345b70cd0f2a15693fc7794)\n",
    "\n",
    "Для нахождения решения данного уравнения нам необходимо найти следующий определеители матрицы матрицы:\n",
    "![](https://wikimedia.org/api/rest_v1/media/math/render/svg/e2471fe87d64d94abca2d2308e57baea6793eb3e)\n",
    "![](https://wikimedia.org/api/rest_v1/media/math/render/svg/49dee024651f85691084fe18126b215b3b8f5c8d)\n",
    "\n",
    "В определителях столбец коэффициентов при соответствующей неизвестной заменяется столбцом свободных членов системы.\n",
    "\n",
    "`Решение:`\n",
    "\n",
    "![](https://wikimedia.org/api/rest_v1/media/math/render/svg/761478017f9c426f2861665385f69d3bb647d093)"
   ]
  },
  {
   "cell_type": "markdown",
   "id": "adbab21f",
   "metadata": {},
   "source": [
    "##### Для решения поставленной задачи необходимо разработать 2 функции:\n",
    "\n",
    "<strong>Первая функция</strong> `будет находить определитель матрицы.`\n",
    "\n",
    "<strong>Вторая функция</strong> `будет подставлять столбец свободных членов в соответсвующие поизиции и считать определитель от них.`\n",
    "\n",
    "Для реализации <strong>первой</strong> функции я воспользовался частным случаем теоремы Лапласа.\n",
    "Его суть заключается в следующем:\n",
    "Он позволяет представить определитель квадратной матрицы в виде суммы произведений элементов любой её строки или столбца на их алгебраические дополнения.\n",
    "\n",
    "Представленая реализация выполняет следующее:\n",
    "Идет по столбцу матрицы от 0 до n\n",
    "Для каждого элемента a<sub>ij</sub> в столбце формирует его алгебраическое дополнение(Алгебраическим дополнением A<sub>ij</sub> элемента a<sub>ij</sub> матрицы A n− го порядка называется число равное произведению минора M<sub>ij</sub> на (−1)<sup>i+j</sup>: \n",
    "\n",
    "<strong>A<sub>ij</sub>=(−1)<sup>i+j</sup>*M<sub>ij</sub>.)</strong>\n",
    "\n",
    "Данное алгебраическое дополнение умножается на сам элмент.\n",
    "\n",
    "При `рекурсивном` вызове функции мы доходим до матрицы размера 1x1 - определителем такой матрицы будет являться едеинственный элемент матрицы.\n",
    "\n",
    "\\begin{equation}\n",
    "\\det A=\\sum\\limits_{j=1}^na_{ij}A_{ij}\n",
    "\\end{equation}\n",
    "\n",
    "Для реализации <strong>второй</strong> я \"вставлял\" массив b на необходимую позицию и запоминал значение определителя, для последющего вычисления значений x по формуле:\n",
    "![](https://wikimedia.org/api/rest_v1/media/math/render/svg/761478017f9c426f2861665385f69d3bb647d093)"
   ]
  },
  {
   "cell_type": "code",
   "execution_count": 1,
   "id": "68fe6ec6",
   "metadata": {},
   "outputs": [],
   "source": [
    "# Функция для нахождения определителя матрицы\n",
    "\n",
    "def determinant(matrix):\n",
    "    if len(matrix) == 1:\n",
    "        return matrix[0][0]\n",
    "    else:\n",
    "        n = len(matrix)\n",
    "        summa = 0\n",
    "        for i in range(n):\n",
    "            minor = []\n",
    "            for x in range(n):\n",
    "                temporary = []\n",
    "                for y in range(n):\n",
    "                    if x != i and y != 0:\n",
    "                        temporary.append(matrix[x][y])\n",
    "                if len(temporary) == n - 1:\n",
    "                    minor.append(temporary)\n",
    "            if i % 2 == 0:\n",
    "                summa += matrix[i][0] * determinant(minor)\n",
    "            else:\n",
    "                summa -= matrix[i][0] * determinant(minor)\n",
    "        return summa"
   ]
  },
  {
   "cell_type": "code",
   "execution_count": 2,
   "id": "3aebda28",
   "metadata": {},
   "outputs": [],
   "source": [
    "# Функция для решения СЛАУ\n",
    "\n",
    "def slae_solver(x, y):\n",
    "    det1 = determinant(x)\n",
    "    if det1 == 0:\n",
    "        return None\n",
    "    n = len(x)\n",
    "    ans = []\n",
    "    deters = []\n",
    "    for k in range(n):\n",
    "        matrix = []\n",
    "        for i, line in enumerate(x):\n",
    "            temp = []\n",
    "            for j, var in enumerate(line):\n",
    "                if j == k:\n",
    "                    temp.append(y[i])\n",
    "                else:\n",
    "                    temp.append(var)\n",
    "            matrix.append(temp)\n",
    "        deters.append(determinant(matrix))\n",
    "    for det in deters:\n",
    "        ans.append(det/det1)\n",
    "    return ans"
   ]
  },
  {
   "cell_type": "code",
   "execution_count": 3,
   "id": "9af2ceeb",
   "metadata": {},
   "outputs": [
    {
     "name": "stdout",
     "output_type": "stream",
     "text": [
      "3\n",
      "2.0 -1.0 0.0\n",
      "-1.0 1.0 4.0\n",
      "1.0 2.0 3.0\n",
      "0.0 13.0 14.0\n"
     ]
    }
   ],
   "source": [
    "# Считываем данные\n",
    "\n",
    "n = int(input())\n",
    "a = [list(map(float, input().split())) for i in range(n)]\n",
    "b = list(map(float, input().split()))"
   ]
  },
  {
   "cell_type": "code",
   "execution_count": 4,
   "id": "0c2c6cd6",
   "metadata": {},
   "outputs": [
    {
     "name": "stdout",
     "output_type": "stream",
     "text": [
      "1.0 2.0 3.0 "
     ]
    }
   ],
   "source": [
    "answer = slae_solver(a, b)\n",
    "for elem in answer:\n",
    "    print(elem, end = \" \")"
   ]
  }
 ],
 "metadata": {
  "kernelspec": {
   "display_name": "Python 3",
   "language": "python",
   "name": "python3"
  },
  "language_info": {
   "codemirror_mode": {
    "name": "ipython",
    "version": 3
   },
   "file_extension": ".py",
   "mimetype": "text/x-python",
   "name": "python",
   "nbconvert_exporter": "python",
   "pygments_lexer": "ipython3",
   "version": "3.8.8"
  }
 },
 "nbformat": 4,
 "nbformat_minor": 5
}
