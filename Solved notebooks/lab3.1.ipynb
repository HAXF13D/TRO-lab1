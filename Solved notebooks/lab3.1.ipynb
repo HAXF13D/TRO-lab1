{
 "cells": [
  {
   "cell_type": "markdown",
   "metadata": {},
   "source": [
    "# Лабораторная работа 3.1"
   ]
  },
  {
   "cell_type": "markdown",
   "metadata": {},
   "source": [
    "## Счастливый билетик\n",
    "\n",
    "![](http://f2.mylove.ru/UNiHT7dRJ4.jpg)\n",
    "\n",
    "Билет считается счастливым, если выполнено следующее условие: сумма первых трёх цифр номера равна сумме последних трёх цифр.\n",
    "\n",
    "**Задание:**\n",
    "\n",
    "1) Определите число `ticket_number` — шестизначный номер билета;\n",
    "\n",
    "2) Напишите код, который по шестизначному номеру `ticket_number` билетика проверяет, является ли он счастливым;\n",
    "\n",
    "3) Если номер счастливый, выведите строку `Yes`, иначе — `No`.\n",
    "\n",
    "---\n",
    "\n",
    "**Пример 1:**\n",
    "\n",
    "*Input:* 123456\n",
    "\n",
    "*Output:* No\n",
    "\n",
    "\n",
    "**Пример 2:**\n",
    "\n",
    "*Input:* 123042\n",
    "\n",
    "*Output:* Yes"
   ]
  },
  {
   "cell_type": "code",
   "execution_count": 1,
   "metadata": {},
   "outputs": [],
   "source": [
    "ticket_number = 123042"
   ]
  },
  {
   "cell_type": "code",
   "execution_count": 2,
   "metadata": {},
   "outputs": [
    {
     "name": "stdout",
     "output_type": "stream",
     "text": [
      "Yes\n"
     ]
    }
   ],
   "source": [
    "ticket_number = list(map(int, str(ticket_number)))\n",
    "if sum(ticket_number[0:3]) == sum(ticket_number[3:]):\n",
    "    print('Yes')\n",
    "else:\n",
    "    print('No')"
   ]
  },
  {
   "cell_type": "markdown",
   "metadata": {},
   "source": [
    "## Пароль\n",
    "\n",
    "![](http://forum.ixbt.com/post.cgi?id=attach:77:14138:1341:1)\n",
    "\n",
    "Пусть пароль может содержать только латинские буквы, знаки препинания и цифры.\n",
    "\n",
    "Пароль считается надёжным, если удовлетворяет следующим условиям:\n",
    "- содержит буквы в разных регистрах;\n",
    "- содержит цифры;\n",
    "- содержит не менее `4` уникальных символов;\n",
    "- не содержит ваше имя латинницей, записанное буквами любых регистров (anna, iVan, ...).\n",
    "\n",
    "Иначе пароль считается слабым.\n",
    "\n",
    "**Задание:**\n",
    "\n",
    "1) Определите строку `password` — придуманный вами пароль;\n",
    "\n",
    "2) Напишите код, который по паролю `password` проверяет, является ли он надёжным;\n",
    "\n",
    "3) Если пароль надёжный, выведите строку `strong`, иначе — `weak`.\n",
    "\n",
    "\n",
    "---\n",
    "\n",
    "Пусть имя пользоватея -- Андрей.\n",
    "\n",
    "**Пример 1:**\n",
    "\n",
    "*Input:* Aandrei123\n",
    "\n",
    "*Output:* weak\n",
    "\n",
    "\n",
    "**Пример 2:**\n",
    "\n",
    "*Input:* an12dRei\n",
    "\n",
    "*Output:* strong"
   ]
  },
  {
   "cell_type": "code",
   "execution_count": 3,
   "metadata": {},
   "outputs": [],
   "source": [
    "password = 'Qwerty123'"
   ]
  },
  {
   "cell_type": "code",
   "execution_count": 4,
   "metadata": {},
   "outputs": [
    {
     "name": "stdout",
     "output_type": "stream",
     "text": [
      "strong\n"
     ]
    }
   ],
   "source": [
    "k = password.lower().count(\"andrei\")\n",
    "if k == 0:\n",
    "    uq = set(password)\n",
    "    lower_flag = False\n",
    "    upper_flag = False\n",
    "    digit_flag = False\n",
    "    for char in uq:\n",
    "        if char.islower():\n",
    "            lower_flag = True\n",
    "        if char.isupper():\n",
    "            upper_flag = True\n",
    "        if char.isdigit():\n",
    "            digit_flag = True\n",
    "    if len(uq) >= 4 and lower_flag and upper_flag and digit_flag:\n",
    "        print('strong')\n",
    "    else:\n",
    "        print('weak')\n",
    "else:\n",
    "    print('weak')"
   ]
  },
  {
   "cell_type": "markdown",
   "metadata": {},
   "source": [
    "## Числа Фибоначчи\n",
    "Как известно, [числа Фибоначчи](https://ru.wikipedia.org/wiki/%D0%A7%D0%B8%D1%81%D0%BB%D0%B0_%D0%A4%D0%B8%D0%B1%D0%BE%D0%BD%D0%B0%D1%87%D1%87%D0%B8) — это последовательность чисел, каждое из которых равно сумме двух предыдущих (первые два числа равны $1$):\n",
    "$$\n",
    "    1, 1, 2, 3, 5, 8, 13, \\ldots\n",
    "$$\n",
    "\n",
    "**Задание:**\n",
    "\n",
    "1) Определите число `amount` — количество чисел Фибоначчи, которые надо вывести;\n",
    "\n",
    "2) Напишите код, который выводит первые `amount` чисел Фибоначчи.\n",
    "\n",
    "---\n",
    "\n",
    "**Пример 1:**\n",
    "\n",
    "*Input:* 3\n",
    "\n",
    "*Output:* 1 1 2\n",
    "\n",
    "\n",
    "**Пример 2:**\n",
    "\n",
    "*Input:* 10\n",
    "\n",
    "*Output:* 1 1 2 3 5 8 13 21 34 55\n"
   ]
  },
  {
   "cell_type": "code",
   "execution_count": 5,
   "metadata": {},
   "outputs": [],
   "source": [
    "amount = 10"
   ]
  },
  {
   "cell_type": "code",
   "execution_count": 6,
   "metadata": {},
   "outputs": [
    {
     "name": "stdout",
     "output_type": "stream",
     "text": [
      "1 1 2 3 5 8 13 21 34 55 "
     ]
    }
   ],
   "source": [
    "a = 1\n",
    "b = 1\n",
    "for i in range(amount):\n",
    "    print(a, end=\" \")\n",
    "    c = a\n",
    "    a = b\n",
    "    b = b + c"
   ]
  },
  {
   "cell_type": "markdown",
   "metadata": {},
   "source": [
    "## Время исследований\n",
    "\n",
    "![](https://2.bp.blogspot.com/-VOT5x12UqPY/WSh53tQ94HI/AAAAAAAAAMY/-nlcz28_Fj4UzJjbn4bBINKCnzwag1W4QCLcB/s1600/my-pic-widget.jpg)\n",
    "\n",
    "На сайте https://www.kaggle.com/ выберите любой набор данных в формате CSV и проведите для него маленькое исследование: загрузите данные из набора с использованием стандартного модуля `csv`, посмотрите средние значения и стандартные отклонения двух выбранных числовых атрибутов, найдите [методом наименьших квадратов](https://ru.wikipedia.org/wiki/%D0%9C%D0%B5%D1%82%D0%BE%D0%B4_%D0%BD%D0%B0%D0%B8%D0%BC%D0%B5%D0%BD%D1%8C%D1%88%D0%B8%D1%85_%D0%BA%D0%B2%D0%B0%D0%B4%D1%80%D0%B0%D1%82%D0%BE%D0%B2) уравнение линейной зависимости, связывающей один числовой атрибут с другим. Для оценки заданной зависимости найдите [коэффициент парной корреляции](https://ru.wikipedia.org/wiki/%D0%9A%D0%BE%D1%80%D1%80%D0%B5%D0%BB%D1%8F%D1%86%D0%B8%D1%8F), сделайте соответствующие выводы.\n",
    "\n",
    "**Результаты надо обязательно прокомментировать и пояснить!**\n",
    "\n",
    "---\n",
    "\n",
    "**Пример 1:**\n",
    "\n",
    "Пусть таблица `bikes.csv` содержит данные по арендам велосипедов за $2$ года:\n",
    "- `datetime`: дата и время аренды\n",
    "- `season`: время года\n",
    "- `temp`: температура воздуха по Цельсию\n",
    "- `windspeed`: скорость ветра \n",
    "- `registered`: число аренд\n",
    "\n",
    "Одно из направлений исследования могло бы заключаться в проверке зависимости суммарного числа аренд от температуры воздуха."
   ]
  },
  {
   "attachments": {},
   "cell_type": "markdown",
   "metadata": {},
   "source": [
    "# Это котик\n",
    "![](https://acegif.com/wp-content/gifs/dancing-cat-42.gif)\n",
    "# Он танцует"
   ]
  },
  {
   "cell_type": "markdown",
   "metadata": {},
   "source": [
    "Пусть таблица `dataset.csv` содержит данные о сделках с криптовалютой биткоин за $2014-2021$ год:\n",
    "\n",
    "- `Date`: дата\n",
    "- `Open`: цена первой сделки торгового дня\n",
    "- `High`: максимальная цена за торговый день\n",
    "- `Low`: минимальная цена в течение торгового дня \n",
    "- `Close`: цена последней сделки торгового дня\n",
    "- `Adj Close`: цена закрытия, скорректированная для отражения стоимости после учета любых корпоративных действий\n",
    "- `Volume`: количество единиц, торгуемых за день\n",
    "\n",
    "Исследование заключается в проверке зависимости цены последней сделки торгового дня от количества единиц, торгуемых за день."
   ]
  },
  {
   "cell_type": "markdown",
   "metadata": {},
   "source": [
    "Количества единиц, торгуемых за день - независимая - X\n",
    "\n",
    "Цена последней сделки торгового дня - зависимая - Y"
   ]
  },
  {
   "cell_type": "code",
   "execution_count": 7,
   "metadata": {},
   "outputs": [],
   "source": [
    "# Функция для опредления является ли строка вещественным числом\n",
    "\n",
    "def is_number(str):\n",
    "    try:\n",
    "        float(str)\n",
    "        return True\n",
    "    except ValueError:\n",
    "        return False\n"
   ]
  },
  {
   "cell_type": "code",
   "execution_count": 8,
   "metadata": {
    "scrolled": false
   },
   "outputs": [],
   "source": [
    "# Считываем данным из файла\n",
    "# Считываются только числовые значения\n",
    "# 4 столбец - цена закрытия\n",
    "# 6 столбец - объём торгов\n",
    "\n",
    "data = open('dataset.csv', 'r')\n",
    "df = []\n",
    "for line in data:\n",
    "    temp = line.replace('\\n', '')\n",
    "    temp = temp.split(',')\n",
    "    if is_number(temp[4]):\n",
    "        df.append((float(temp[4]), float(temp[6])))"
   ]
  },
  {
   "cell_type": "markdown",
   "metadata": {},
   "source": [
    "Уравнение параболической регрессии имеет вид:\n",
    "\n",
    "`y = a0 + a1*x + a2*x^2`\n",
    "\n",
    "Для нахождения коэффициентов параболы необходимо решить систему уравнений:\n",
    "![](data:image/gif;base64,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)\n",
    "\n",
    "Для решение данной системы уравнений нам необходимовычислить следующие значения:\n",
    "<br>\n",
    "<strong><em>\n",
    "    Σ X<sub>i</sub><br>\n",
    "    Σ Y<sub>i</sub><br>\n",
    "    Σ X<sub>i</sub><sup>2</sup><br>\n",
    "    Σ X<sub>i</sub><sup>3</sup><br>\n",
    "    Σ X<sub>i</sub><sup>4</sup><br>\n",
    "    Σ Y<sub>i</sub>*X<sub>i</sub><br>\n",
    "    Σ Y<sub>i</sub>*X<sub>i</sub><sup>2</sup><br>\n",
    "</em></strong>\n",
    "Следующая часть кода выполняет данные вычисления:<br>"
   ]
  },
  {
   "cell_type": "code",
   "execution_count": 9,
   "metadata": {},
   "outputs": [],
   "source": [
    "# Подсчитываем данные, необходимые для дальнейших расчетов\n",
    "n = len(df) - 1\n",
    "sum_x = 0\n",
    "sum_x2 = 0\n",
    "sum_y = 0\n",
    "sum_x3 = 0\n",
    "sum_yx = 0\n",
    "sum_x4 = 0\n",
    "sum_yx2 = 0\n",
    "for value in df:\n",
    "    x = value[1]\n",
    "    sum_x += x\n",
    "    y = value[0]\n",
    "    sum_y += y\n",
    "    x2 = x*x\n",
    "    sum_x2 += x2\n",
    "    x3 = x2 * x\n",
    "    sum_x3 += x3\n",
    "    x4 = x2 * x2\n",
    "    sum_x4 += x4\n",
    "    yx = y * x\n",
    "    sum_yx += yx\n",
    "    yx2 = y * x2\n",
    "    sum_yx2 += yx2\n",
    "av_x = sum_x / n\n",
    "av_y = sum_y / n\n",
    "numerator = 0\n",
    "sqr_x = 0\n",
    "sqr_y = 0\n",
    "denominator = 0\n",
    "for value in df:\n",
    "    dif_x = value[1] - av_x\n",
    "    dif_y = value[0] - av_y\n",
    "    numerator += dif_x * dif_y\n",
    "    sqr_x += dif_x * dif_x\n",
    "    sqr_y += dif_y * dif_y\n",
    "denominator = (sqr_x * sqr_y) ** (1/2)"
   ]
  },
  {
   "cell_type": "markdown",
   "metadata": {},
   "source": [
    "В верхнем блоке мы высчитываем значение `числителя` и `знаменателя`, которые необходимы для расчета коэффициента парной корреляции.\n",
    "\n",
    "Расчет производится по следующей формуле:\n",
    "![](https://exceltable.com/otchety/images/otchety56-2.png)"
   ]
  },
  {
   "cell_type": "code",
   "execution_count": 10,
   "metadata": {
    "scrolled": true
   },
   "outputs": [
    {
     "name": "stdout",
     "output_type": "stream",
     "text": [
      "a0*2690+a1*39408335808274.0+a2*1.6619030512691775e+24=29813155.465381928\n",
      "a0*39408335808274.0+a1*1.6619030512691775e+24+a2*1.2322908569016729e+35=1.0677419732345071e+18\n",
      "a0*1.6619030512691775e+24+a1*1.2322908569016729e+35+a2*2.0227571563617705e+46=5.647841473167303e+28\n"
     ]
    }
   ],
   "source": [
    "# Вывод системы уравнений, которую необходимо решить\n",
    "print(f\"a0*{n}+a1*{sum_x}+a2*{sum_x2}={sum_y}\")\n",
    "print(f\"a0*{sum_x}+a1*{sum_x2}+a2*{sum_x3}={sum_yx}\")\n",
    "print(f\"a0*{sum_x2}+a1*{sum_x3}+a2*{sum_x4}={sum_yx2}\")"
   ]
  },
  {
   "cell_type": "code",
   "execution_count": 11,
   "metadata": {},
   "outputs": [],
   "source": [
    "# Функция для нахождения определителя матрицы\n",
    "def determinant(matrix):\n",
    "    if len(matrix) == 1:\n",
    "        return matrix[0][0]\n",
    "    else:\n",
    "        n = len(matrix)\n",
    "        summa = 0\n",
    "        for i in range(n):\n",
    "            minor = []\n",
    "            for x in range(n):\n",
    "                temporary = []\n",
    "                for y in range(n):\n",
    "                    if x != i and y != 0:\n",
    "                        temporary.append(matrix[x][y])\n",
    "                if len(temporary) == n - 1:\n",
    "                    minor.append(temporary)\n",
    "            if i % 2 == 0:\n",
    "                summa += matrix[i][0] * determinant(minor)\n",
    "            else:\n",
    "                summa -= matrix[i][0] * determinant(minor)\n",
    "        return summa"
   ]
  },
  {
   "cell_type": "code",
   "execution_count": 12,
   "metadata": {},
   "outputs": [],
   "source": [
    "# Функция для решения СЛАУ\n",
    "def slae_solver(x, y):\n",
    "    det1 = determinant(x)\n",
    "    if det1 == 0:\n",
    "        return None\n",
    "    n = len(x)\n",
    "    ans = []\n",
    "    deters = []\n",
    "    for k in range(n):\n",
    "        matrix = []\n",
    "        for i, line in enumerate(x):\n",
    "            temp = []\n",
    "            for j, var in enumerate(line):\n",
    "                if j == k:\n",
    "                    temp.append(y[i])\n",
    "                else:\n",
    "                    temp.append(var)\n",
    "            matrix.append(temp)\n",
    "        deters.append(determinant(matrix))\n",
    "    for det in deters:\n",
    "        ans.append(det/det1)\n",
    "    return ans"
   ]
  },
  {
   "cell_type": "code",
   "execution_count": 13,
   "metadata": {},
   "outputs": [],
   "source": [
    "# Коэфиценты для решения уравнений\n",
    "temp_x = [\n",
    "    [n, sum_x, sum_x2],\n",
    "    [sum_x, sum_x2, sum_x3],\n",
    "    [sum_x2, sum_x3, sum_x4]\n",
    "]\n",
    "temp_y = [\n",
    "    sum_y,\n",
    "    sum_yx,\n",
    "    sum_yx2\n",
    "]"
   ]
  },
  {
   "cell_type": "code",
   "execution_count": 14,
   "metadata": {},
   "outputs": [
    {
     "name": "stdout",
     "output_type": "stream",
     "text": [
      "y = 1187.896296047084 + 7.560368116947179e-07x + -1.911325770321666e-18x^2\n"
     ]
    }
   ],
   "source": [
    "# Вывод уравнения параболической регрессии\n",
    "ans = slae_solver(temp_x, temp_y)\n",
    "print(f\"y = {ans[0]} + {ans[1]}x + {ans[2]}x^2\")"
   ]
  },
  {
   "cell_type": "code",
   "execution_count": 15,
   "metadata": {},
   "outputs": [
    {
     "data": {
      "text/plain": [
       "0.7327908953378983"
      ]
     },
     "execution_count": 15,
     "metadata": {},
     "output_type": "execute_result"
    }
   ],
   "source": [
    "# Подсчет коэффициента парной корреляции \n",
    "r = numerator / denominator\n",
    "r"
   ]
  },
  {
   "cell_type": "markdown",
   "metadata": {},
   "source": [
    "**Вывод:**\n",
    "Коэфицент парной корреляции = 0.73, что говорит о том, что существует средней тесноты зависимость между зависимой и независимой величиной"
   ]
  }
 ],
 "metadata": {
  "anaconda-cloud": {},
  "kernelspec": {
   "display_name": "Python 3",
   "language": "python",
   "name": "python3"
  },
  "language_info": {
   "codemirror_mode": {
    "name": "ipython",
    "version": 3
   },
   "file_extension": ".py",
   "mimetype": "text/x-python",
   "name": "python",
   "nbconvert_exporter": "python",
   "pygments_lexer": "ipython3",
   "version": "3.8.8"
  }
 },
 "nbformat": 4,
 "nbformat_minor": 1
}
